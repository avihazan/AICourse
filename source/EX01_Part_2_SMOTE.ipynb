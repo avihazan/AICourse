{
 "cells": [
  {
   "cell_type": "code",
   "execution_count": null,
   "id": "53572691",
   "metadata": {},
   "outputs": [],
   "source": [
    "# Read train and test csvs\n",
    "# and build model \n"
   ]
  },
  {
   "cell_type": "code",
   "execution_count": null,
   "id": "7a6ef008",
   "metadata": {},
   "outputs": [],
   "source": [
    "import pandas as pd\n",
    "import numpy as np\n",
    "from sklearn.preprocessing import LabelEncoder\n",
    "from sklearn.impute import SimpleImputer\n",
    "from sklearn.ensemble import RandomForestClassifier\n",
    "from sklearn.metrics import confusion_matrix, classification_report, accuracy_score\n"
   ]
  },
  {
   "cell_type": "code",
   "execution_count": null,
   "id": "1bfd2a6f",
   "metadata": {},
   "outputs": [],
   "source": [
    "train = pd.read_csv('data/train_SMOTE.csv')  \n",
    "test = pd.read_csv('data/test_SMOTE.csv')\n",
    "\n",
    "train.head()"
   ]
  },
  {
   "cell_type": "code",
   "execution_count": null,
   "id": "ce75e0ab",
   "metadata": {},
   "outputs": [],
   "source": [
    "print(sum(test['click']))\n",
    "print(train.shape[0])\n",
    "print(test.shape[0])"
   ]
  },
  {
   "cell_type": "code",
   "execution_count": null,
   "id": "ac3baa6b",
   "metadata": {},
   "outputs": [],
   "source": [
    "\n",
    "train_X = train.drop('click',axis = 1)\n",
    "train_y = train['click']\n",
    "\n",
    "test_X = test.drop('click',axis = 1)\n",
    "test_y = test['click']\n",
    "\n"
   ]
  },
  {
   "cell_type": "code",
   "execution_count": null,
   "id": "92a2b935",
   "metadata": {},
   "outputs": [],
   "source": [
    "\n",
    "rf = RandomForestClassifier(n_estimators=100, max_depth=10)\n",
    "rf.fit(train_X, train_y)"
   ]
  },
  {
   "cell_type": "code",
   "execution_count": null,
   "id": "18f2ec0c",
   "metadata": {},
   "outputs": [],
   "source": [
    "\n",
    "print(f'Train Score: {rf.score(train_X, train_y)}\\nTest Score: {rf.score(test_X, test_y)}')\n",
    "np.unique(test_y)"
   ]
  },
  {
   "cell_type": "code",
   "execution_count": null,
   "id": "d4d23598",
   "metadata": {},
   "outputs": [],
   "source": [
    "predict = rf.predict(test_X)\n",
    "print(sum(predict))\n"
   ]
  },
  {
   "cell_type": "code",
   "execution_count": null,
   "id": "47e3f65b",
   "metadata": {},
   "outputs": [],
   "source": [
    "\n",
    "print(classification_report(test_y, predict))"
   ]
  },
  {
   "cell_type": "code",
   "execution_count": null,
   "id": "45dc227a",
   "metadata": {},
   "outputs": [],
   "source": []
  }
 ],
 "metadata": {
  "kernelspec": {
   "display_name": "Python 3 (ipykernel)",
   "language": "python",
   "name": "python3"
  },
  "language_info": {
   "codemirror_mode": {
    "name": "ipython",
    "version": 3
   },
   "file_extension": ".py",
   "mimetype": "text/x-python",
   "name": "python",
   "nbconvert_exporter": "python",
   "pygments_lexer": "ipython3",
   "version": "3.9.7"
  }
 },
 "nbformat": 4,
 "nbformat_minor": 5
}
