{
 "cells": [
  {
   "cell_type": "code",
   "execution_count": 1,
   "metadata": {},
   "outputs": [],
   "source": [
    "#Install once\n",
    "#!pip install imbalanced-learn\n",
    "#!pip install delayed\n",
    "\n",
    "import pandas as pd\n",
    "import numpy as np\n",
    "import seaborn as sns\n",
    "import matplotlib.pyplot as plt\n",
    "\n",
    "\n",
    "from sklearn.preprocessing import LabelEncoder\n",
    "from sklearn.impute import SimpleImputer\n",
    "from sklearn.ensemble import RandomForestClassifier\n",
    "from sklearn.metrics import confusion_matrix, classification_report, accuracy_score\n",
    "\n",
    "from imblearn.under_sampling import RandomUnderSampler\n",
    "from imblearn.over_sampling import RandomOverSampler\n",
    "\n",
    "\n",
    "%matplotlib inline"
   ]
  },
  {
   "cell_type": "code",
   "execution_count": 2,
   "metadata": {},
   "outputs": [
    {
     "data": {
      "text/html": [
       "<div>\n",
       "<style scoped>\n",
       "    .dataframe tbody tr th:only-of-type {\n",
       "        vertical-align: middle;\n",
       "    }\n",
       "\n",
       "    .dataframe tbody tr th {\n",
       "        vertical-align: top;\n",
       "    }\n",
       "\n",
       "    .dataframe thead th {\n",
       "        text-align: right;\n",
       "    }\n",
       "</style>\n",
       "<table border=\"1\" class=\"dataframe\">\n",
       "  <thead>\n",
       "    <tr style=\"text-align: right;\">\n",
       "      <th></th>\n",
       "      <th>user_state</th>\n",
       "      <th>click</th>\n",
       "      <th>hour</th>\n",
       "      <th>screen_resolution</th>\n",
       "      <th>video</th>\n",
       "      <th>score</th>\n",
       "      <th>editors_choice</th>\n",
       "      <th>price</th>\n",
       "      <th>iap</th>\n",
       "      <th>installs</th>\n",
       "      <th>5</th>\n",
       "      <th>4</th>\n",
       "      <th>3</th>\n",
       "      <th>2</th>\n",
       "      <th>1</th>\n",
       "    </tr>\n",
       "  </thead>\n",
       "  <tbody>\n",
       "    <tr>\n",
       "      <th>0</th>\n",
       "      <td>43</td>\n",
       "      <td>0</td>\n",
       "      <td>9</td>\n",
       "      <td>-0.530933</td>\n",
       "      <td>1</td>\n",
       "      <td>0.323989</td>\n",
       "      <td>False</td>\n",
       "      <td>0.0</td>\n",
       "      <td>True</td>\n",
       "      <td>0.433052</td>\n",
       "      <td>112010.0</td>\n",
       "      <td>15502.0</td>\n",
       "      <td>9283.0</td>\n",
       "      <td>3189.0</td>\n",
       "      <td>15145.0</td>\n",
       "    </tr>\n",
       "    <tr>\n",
       "      <th>1</th>\n",
       "      <td>14</td>\n",
       "      <td>0</td>\n",
       "      <td>13</td>\n",
       "      <td>-0.530933</td>\n",
       "      <td>1</td>\n",
       "      <td>0.323989</td>\n",
       "      <td>False</td>\n",
       "      <td>0.0</td>\n",
       "      <td>True</td>\n",
       "      <td>0.433052</td>\n",
       "      <td>112010.0</td>\n",
       "      <td>15502.0</td>\n",
       "      <td>9283.0</td>\n",
       "      <td>3189.0</td>\n",
       "      <td>15145.0</td>\n",
       "    </tr>\n",
       "    <tr>\n",
       "      <th>2</th>\n",
       "      <td>9</td>\n",
       "      <td>0</td>\n",
       "      <td>12</td>\n",
       "      <td>3.294503</td>\n",
       "      <td>1</td>\n",
       "      <td>0.323989</td>\n",
       "      <td>False</td>\n",
       "      <td>0.0</td>\n",
       "      <td>True</td>\n",
       "      <td>0.433052</td>\n",
       "      <td>112010.0</td>\n",
       "      <td>15502.0</td>\n",
       "      <td>9283.0</td>\n",
       "      <td>3189.0</td>\n",
       "      <td>15145.0</td>\n",
       "    </tr>\n",
       "    <tr>\n",
       "      <th>3</th>\n",
       "      <td>9</td>\n",
       "      <td>0</td>\n",
       "      <td>22</td>\n",
       "      <td>-0.530933</td>\n",
       "      <td>1</td>\n",
       "      <td>0.323989</td>\n",
       "      <td>False</td>\n",
       "      <td>0.0</td>\n",
       "      <td>True</td>\n",
       "      <td>0.433052</td>\n",
       "      <td>112010.0</td>\n",
       "      <td>15502.0</td>\n",
       "      <td>9283.0</td>\n",
       "      <td>3189.0</td>\n",
       "      <td>15145.0</td>\n",
       "    </tr>\n",
       "    <tr>\n",
       "      <th>4</th>\n",
       "      <td>9</td>\n",
       "      <td>0</td>\n",
       "      <td>12</td>\n",
       "      <td>3.294503</td>\n",
       "      <td>1</td>\n",
       "      <td>0.323989</td>\n",
       "      <td>False</td>\n",
       "      <td>0.0</td>\n",
       "      <td>True</td>\n",
       "      <td>0.433052</td>\n",
       "      <td>112010.0</td>\n",
       "      <td>15502.0</td>\n",
       "      <td>9283.0</td>\n",
       "      <td>3189.0</td>\n",
       "      <td>15145.0</td>\n",
       "    </tr>\n",
       "  </tbody>\n",
       "</table>\n",
       "</div>"
      ],
      "text/plain": [
       "   user_state  click  hour  screen_resolution  video     score  \\\n",
       "0          43      0     9          -0.530933      1  0.323989   \n",
       "1          14      0    13          -0.530933      1  0.323989   \n",
       "2           9      0    12           3.294503      1  0.323989   \n",
       "3           9      0    22          -0.530933      1  0.323989   \n",
       "4           9      0    12           3.294503      1  0.323989   \n",
       "\n",
       "   editors_choice  price   iap  installs         5        4       3       2  \\\n",
       "0           False    0.0  True  0.433052  112010.0  15502.0  9283.0  3189.0   \n",
       "1           False    0.0  True  0.433052  112010.0  15502.0  9283.0  3189.0   \n",
       "2           False    0.0  True  0.433052  112010.0  15502.0  9283.0  3189.0   \n",
       "3           False    0.0  True  0.433052  112010.0  15502.0  9283.0  3189.0   \n",
       "4           False    0.0  True  0.433052  112010.0  15502.0  9283.0  3189.0   \n",
       "\n",
       "         1  \n",
       "0  15145.0  \n",
       "1  15145.0  \n",
       "2  15145.0  \n",
       "3  15145.0  \n",
       "4  15145.0  "
      ]
     },
     "execution_count": 2,
     "metadata": {},
     "output_type": "execute_result"
    }
   ],
   "source": [
    "train = pd.read_csv('data/train.csv')  \n",
    "test = pd.read_csv('data/test.csv')\n",
    "\n",
    "train.head()"
   ]
  },
  {
   "cell_type": "code",
   "execution_count": 3,
   "metadata": {},
   "outputs": [
    {
     "name": "stdout",
     "output_type": "stream",
     "text": [
      "Click percent in train data: 7.0826516308829355\n",
      "Click percent in test data: 7.886337981272891\n"
     ]
    },
    {
     "data": {
      "text/html": [
       "<div>\n",
       "<style scoped>\n",
       "    .dataframe tbody tr th:only-of-type {\n",
       "        vertical-align: middle;\n",
       "    }\n",
       "\n",
       "    .dataframe tbody tr th {\n",
       "        vertical-align: top;\n",
       "    }\n",
       "\n",
       "    .dataframe thead th {\n",
       "        text-align: right;\n",
       "    }\n",
       "</style>\n",
       "<table border=\"1\" class=\"dataframe\">\n",
       "  <thead>\n",
       "    <tr style=\"text-align: right;\">\n",
       "      <th></th>\n",
       "      <th>user_state</th>\n",
       "      <th>click</th>\n",
       "      <th>hour</th>\n",
       "      <th>screen_resolution</th>\n",
       "      <th>video</th>\n",
       "      <th>score</th>\n",
       "      <th>editors_choice</th>\n",
       "      <th>price</th>\n",
       "      <th>iap</th>\n",
       "      <th>installs</th>\n",
       "      <th>5</th>\n",
       "      <th>4</th>\n",
       "      <th>3</th>\n",
       "      <th>2</th>\n",
       "      <th>1</th>\n",
       "    </tr>\n",
       "  </thead>\n",
       "  <tbody>\n",
       "    <tr>\n",
       "      <th>0</th>\n",
       "      <td>43</td>\n",
       "      <td>0</td>\n",
       "      <td>9</td>\n",
       "      <td>-0.530933</td>\n",
       "      <td>1</td>\n",
       "      <td>0.323989</td>\n",
       "      <td>False</td>\n",
       "      <td>0.0</td>\n",
       "      <td>True</td>\n",
       "      <td>0.433052</td>\n",
       "      <td>112010.0</td>\n",
       "      <td>15502.0</td>\n",
       "      <td>9283.0</td>\n",
       "      <td>3189.0</td>\n",
       "      <td>15145.0</td>\n",
       "    </tr>\n",
       "    <tr>\n",
       "      <th>1</th>\n",
       "      <td>14</td>\n",
       "      <td>0</td>\n",
       "      <td>13</td>\n",
       "      <td>-0.530933</td>\n",
       "      <td>1</td>\n",
       "      <td>0.323989</td>\n",
       "      <td>False</td>\n",
       "      <td>0.0</td>\n",
       "      <td>True</td>\n",
       "      <td>0.433052</td>\n",
       "      <td>112010.0</td>\n",
       "      <td>15502.0</td>\n",
       "      <td>9283.0</td>\n",
       "      <td>3189.0</td>\n",
       "      <td>15145.0</td>\n",
       "    </tr>\n",
       "    <tr>\n",
       "      <th>2</th>\n",
       "      <td>9</td>\n",
       "      <td>0</td>\n",
       "      <td>12</td>\n",
       "      <td>3.294503</td>\n",
       "      <td>1</td>\n",
       "      <td>0.323989</td>\n",
       "      <td>False</td>\n",
       "      <td>0.0</td>\n",
       "      <td>True</td>\n",
       "      <td>0.433052</td>\n",
       "      <td>112010.0</td>\n",
       "      <td>15502.0</td>\n",
       "      <td>9283.0</td>\n",
       "      <td>3189.0</td>\n",
       "      <td>15145.0</td>\n",
       "    </tr>\n",
       "    <tr>\n",
       "      <th>3</th>\n",
       "      <td>9</td>\n",
       "      <td>0</td>\n",
       "      <td>22</td>\n",
       "      <td>-0.530933</td>\n",
       "      <td>1</td>\n",
       "      <td>0.323989</td>\n",
       "      <td>False</td>\n",
       "      <td>0.0</td>\n",
       "      <td>True</td>\n",
       "      <td>0.433052</td>\n",
       "      <td>112010.0</td>\n",
       "      <td>15502.0</td>\n",
       "      <td>9283.0</td>\n",
       "      <td>3189.0</td>\n",
       "      <td>15145.0</td>\n",
       "    </tr>\n",
       "    <tr>\n",
       "      <th>4</th>\n",
       "      <td>9</td>\n",
       "      <td>0</td>\n",
       "      <td>12</td>\n",
       "      <td>3.294503</td>\n",
       "      <td>1</td>\n",
       "      <td>0.323989</td>\n",
       "      <td>False</td>\n",
       "      <td>0.0</td>\n",
       "      <td>True</td>\n",
       "      <td>0.433052</td>\n",
       "      <td>112010.0</td>\n",
       "      <td>15502.0</td>\n",
       "      <td>9283.0</td>\n",
       "      <td>3189.0</td>\n",
       "      <td>15145.0</td>\n",
       "    </tr>\n",
       "  </tbody>\n",
       "</table>\n",
       "</div>"
      ],
      "text/plain": [
       "   user_state  click  hour  screen_resolution  video     score  \\\n",
       "0          43      0     9          -0.530933      1  0.323989   \n",
       "1          14      0    13          -0.530933      1  0.323989   \n",
       "2           9      0    12           3.294503      1  0.323989   \n",
       "3           9      0    22          -0.530933      1  0.323989   \n",
       "4           9      0    12           3.294503      1  0.323989   \n",
       "\n",
       "   editors_choice  price   iap  installs         5        4       3       2  \\\n",
       "0           False    0.0  True  0.433052  112010.0  15502.0  9283.0  3189.0   \n",
       "1           False    0.0  True  0.433052  112010.0  15502.0  9283.0  3189.0   \n",
       "2           False    0.0  True  0.433052  112010.0  15502.0  9283.0  3189.0   \n",
       "3           False    0.0  True  0.433052  112010.0  15502.0  9283.0  3189.0   \n",
       "4           False    0.0  True  0.433052  112010.0  15502.0  9283.0  3189.0   \n",
       "\n",
       "         1  \n",
       "0  15145.0  \n",
       "1  15145.0  \n",
       "2  15145.0  \n",
       "3  15145.0  \n",
       "4  15145.0  "
      ]
     },
     "execution_count": 3,
     "metadata": {},
     "output_type": "execute_result"
    }
   ],
   "source": [
    "#state_train = pd.get_dummies(train.user_state, prefix='state')\n",
    "#train = pd.concat([train, state_train], axis=1)\n",
    "#train.drop(['user_state'], axis=1, inplace=True)\n",
    "\n",
    "#state_test = pd.get_dummies(test.user_state, prefix='state')\n",
    "#test = pd.concat([test, state_test], axis=1)\n",
    "#test.drop(['user_state'], axis=1, inplace=True)\n",
    "\n",
    "print(f'Click percent in train data: {train.click.sum()/train.shape[0]*100}')\n",
    "print(f'Click percent in test data: {test.click.sum()/test.shape[0]*100}')\n",
    "\n",
    "train.head()"
   ]
  },
  {
   "cell_type": "code",
   "execution_count": 4,
   "metadata": {},
   "outputs": [
    {
     "data": {
      "image/png": "[encoded data removed]",
      "text/plain": [
       "<Figure size 432x288 with 1 Axes>"
      ]
     },
     "metadata": {
      "needs_background": "light"
     },
     "output_type": "display_data"
    }
   ],
   "source": [
    "#Imbalanced data\n",
    "\n",
    "X_train = train.drop('click', axis=1)\n",
    "y_train = train['click']\n",
    "\n",
    "X_test = test.drop('click', axis=1)\n",
    "y_test = test['click']\n",
    "\n",
    "\n",
    "plt.bar(['No click', 'click'], height=[sum(y_train==0), sum(y_train==1)])\n",
    "plt.title('Original Data')\n",
    "plt.show()"
   ]
  },
  {
   "cell_type": "code",
   "execution_count": 5,
   "metadata": {},
   "outputs": [
    {
     "data": {
      "image/png": "[encoded data removed]",
      "text/plain": [
       "<Figure size 432x288 with 1 Axes>"
      ]
     },
     "metadata": {
      "needs_background": "light"
     },
     "output_type": "display_data"
    },
    {
     "data": {
      "image/png": "[encoded data removed]",
      "text/plain": [
       "<Figure size 432x288 with 1 Axes>"
      ]
     },
     "metadata": {
      "needs_background": "light"
     },
     "output_type": "display_data"
    }
   ],
   "source": [
    "oversampler = RandomOverSampler(sampling_strategy='minority')\n",
    "X_over_train, y_over_train = oversampler.fit_resample(X_train, y_train)\n",
    "X_over_test, y_over_test = oversampler.fit_resample(X_test, y_test)\n",
    "\n",
    "plt.bar(['No click', 'click'], height=[sum(y_over_train==0), sum(y_over_train==1)])\n",
    "plt.title('Random Oversampled train Data')\n",
    "plt.show()\n",
    "\n",
    "plt.bar(['No click', 'click'], height=[sum(y_over_test==0), sum(y_over_test==1)])\n",
    "plt.title('Random Oversampled test Data')\n",
    "plt.show()\n",
    "\n"
   ]
  },
  {
   "cell_type": "code",
   "execution_count": 6,
   "metadata": {},
   "outputs": [],
   "source": [
    "X_train = train.drop('click',axis = 1)\n",
    "y_train = train['click']\n",
    "\n",
    "X_test = test.drop('click',axis = 1)\n",
    "y_test = test['click']"
   ]
  },
  {
   "cell_type": "code",
   "execution_count": 7,
   "metadata": {},
   "outputs": [
    {
     "data": {
      "text/plain": [
       "RandomForestClassifier(max_depth=10)"
      ]
     },
     "execution_count": 7,
     "metadata": {},
     "output_type": "execute_result"
    }
   ],
   "source": [
    "rf = RandomForestClassifier(n_estimators=100, max_depth=10)\n",
    "rf.fit(X_over_train, y_over_train)"
   ]
  },
  {
   "cell_type": "code",
   "execution_count": 8,
   "metadata": {},
   "outputs": [
    {
     "name": "stdout",
     "output_type": "stream",
     "text": [
      "[[152892 187386]\n",
      " [ 89269 251009]]\n",
      "              precision    recall  f1-score   support\n",
      "\n",
      "           0       0.63      0.45      0.53    340278\n",
      "           1       0.57      0.74      0.64    340278\n",
      "\n",
      "    accuracy                           0.59    680556\n",
      "   macro avg       0.60      0.59      0.58    680556\n",
      "weighted avg       0.60      0.59      0.58    680556\n",
      "\n"
     ]
    }
   ],
   "source": [
    "y_over_pred= rf.predict(X_over_test)\n",
    "print(confusion_matrix(y_over_test, y_over_pred))\n",
    "print(classification_report(y_over_test, y_over_pred))"
   ]
  },
  {
   "cell_type": "code",
   "execution_count": null,
   "metadata": {},
   "outputs": [],
   "source": []
  }
 ],
 "metadata": {
  "kernelspec": {
   "display_name": "Python 3 (ipykernel)",
   "language": "python",
   "name": "python3"
  },
  "language_info": {
   "codemirror_mode": {
    "name": "ipython",
    "version": 3
   },
   "file_extension": ".py",
   "mimetype": "text/x-python",
   "name": "python",
   "nbconvert_exporter": "python",
   "pygments_lexer": "ipython3",
   "version": "3.9.7"
  }
 },
 "nbformat": 4,
 "nbformat_minor": 4
}
