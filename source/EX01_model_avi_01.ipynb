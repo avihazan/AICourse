{
 "cells": [
  {
   "cell_type": "code",
   "execution_count": 1,
   "metadata": {},
   "outputs": [],
   "source": [
    "#Install once\n",
    "#!pip install imbalanced-learn\n",
    "#!pip install delayed\n",
    "\n",
    "import pandas as pd\n",
    "import numpy as np\n",
    "import seaborn as sns\n",
    "import matplotlib.pyplot as plt\n",
    "\n",
    "\n",
    "from sklearn.preprocessing import LabelEncoder\n",
    "from sklearn.impute import SimpleImputer\n",
    "from sklearn.ensemble import RandomForestClassifier\n",
    "from sklearn.metrics import confusion_matrix, classification_report, accuracy_score\n",
    "\n",
    "from imblearn.under_sampling import RandomUnderSampler\n",
    "from imblearn.over_sampling import RandomOverSampler\n",
    "\n",
    "\n",
    "%matplotlib inline"
   ]
  },
  {
   "cell_type": "code",
   "execution_count": 2,
   "metadata": {},
   "outputs": [
    {
     "data": {
      "text/html": [
       "<div>\n",
       "<style scoped>\n",
       "    .dataframe tbody tr th:only-of-type {\n",
       "        vertical-align: middle;\n",
       "    }\n",
       "\n",
       "    .dataframe tbody tr th {\n",
       "        vertical-align: top;\n",
       "    }\n",
       "\n",
       "    .dataframe thead th {\n",
       "        text-align: right;\n",
       "    }\n",
       "</style>\n",
       "<table border=\"1\" class=\"dataframe\">\n",
       "  <thead>\n",
       "    <tr style=\"text-align: right;\">\n",
       "      <th></th>\n",
       "      <th>user_state</th>\n",
       "      <th>click</th>\n",
       "      <th>screen_resolution</th>\n",
       "      <th>video</th>\n",
       "      <th>score</th>\n",
       "      <th>reviews</th>\n",
       "      <th>editors_choice</th>\n",
       "      <th>price</th>\n",
       "      <th>iap</th>\n",
       "      <th>installs</th>\n",
       "    </tr>\n",
       "  </thead>\n",
       "  <tbody>\n",
       "    <tr>\n",
       "      <th>0</th>\n",
       "      <td>TX</td>\n",
       "      <td>0</td>\n",
       "      <td>921600</td>\n",
       "      <td>1</td>\n",
       "      <td>4.3</td>\n",
       "      <td>155129</td>\n",
       "      <td>False</td>\n",
       "      <td>0.0</td>\n",
       "      <td>True</td>\n",
       "      <td>10000000</td>\n",
       "    </tr>\n",
       "    <tr>\n",
       "      <th>1</th>\n",
       "      <td>IL</td>\n",
       "      <td>0</td>\n",
       "      <td>921600</td>\n",
       "      <td>1</td>\n",
       "      <td>4.3</td>\n",
       "      <td>155129</td>\n",
       "      <td>False</td>\n",
       "      <td>0.0</td>\n",
       "      <td>True</td>\n",
       "      <td>10000000</td>\n",
       "    </tr>\n",
       "    <tr>\n",
       "      <th>2</th>\n",
       "      <td>FL</td>\n",
       "      <td>0</td>\n",
       "      <td>4096000</td>\n",
       "      <td>1</td>\n",
       "      <td>4.3</td>\n",
       "      <td>155129</td>\n",
       "      <td>False</td>\n",
       "      <td>0.0</td>\n",
       "      <td>True</td>\n",
       "      <td>10000000</td>\n",
       "    </tr>\n",
       "    <tr>\n",
       "      <th>3</th>\n",
       "      <td>FL</td>\n",
       "      <td>0</td>\n",
       "      <td>921600</td>\n",
       "      <td>1</td>\n",
       "      <td>4.3</td>\n",
       "      <td>155129</td>\n",
       "      <td>False</td>\n",
       "      <td>0.0</td>\n",
       "      <td>True</td>\n",
       "      <td>10000000</td>\n",
       "    </tr>\n",
       "    <tr>\n",
       "      <th>4</th>\n",
       "      <td>FL</td>\n",
       "      <td>0</td>\n",
       "      <td>4096000</td>\n",
       "      <td>1</td>\n",
       "      <td>4.3</td>\n",
       "      <td>155129</td>\n",
       "      <td>False</td>\n",
       "      <td>0.0</td>\n",
       "      <td>True</td>\n",
       "      <td>10000000</td>\n",
       "    </tr>\n",
       "  </tbody>\n",
       "</table>\n",
       "</div>"
      ],
      "text/plain": [
       "  user_state  click  screen_resolution  video  score  reviews  editors_choice  \\\n",
       "0         TX      0             921600      1    4.3   155129           False   \n",
       "1         IL      0             921600      1    4.3   155129           False   \n",
       "2         FL      0            4096000      1    4.3   155129           False   \n",
       "3         FL      0             921600      1    4.3   155129           False   \n",
       "4         FL      0            4096000      1    4.3   155129           False   \n",
       "\n",
       "   price   iap  installs  \n",
       "0    0.0  True  10000000  \n",
       "1    0.0  True  10000000  \n",
       "2    0.0  True  10000000  \n",
       "3    0.0  True  10000000  \n",
       "4    0.0  True  10000000  "
      ]
     },
     "execution_count": 2,
     "metadata": {},
     "output_type": "execute_result"
    }
   ],
   "source": [
    "train = pd.read_csv('data/train.csv')  \n",
    "test = pd.read_csv('data/test.csv')\n",
    "\n",
    "train.head()"
   ]
  },
  {
   "cell_type": "code",
   "execution_count": 3,
   "metadata": {},
   "outputs": [
    {
     "name": "stdout",
     "output_type": "stream",
     "text": [
      "Click percent in train data: 7.085805742490704\n",
      "Click percent in test data: 7.876716084038773\n"
     ]
    },
    {
     "data": {
      "text/html": [
       "<div>\n",
       "<style scoped>\n",
       "    .dataframe tbody tr th:only-of-type {\n",
       "        vertical-align: middle;\n",
       "    }\n",
       "\n",
       "    .dataframe tbody tr th {\n",
       "        vertical-align: top;\n",
       "    }\n",
       "\n",
       "    .dataframe thead th {\n",
       "        text-align: right;\n",
       "    }\n",
       "</style>\n",
       "<table border=\"1\" class=\"dataframe\">\n",
       "  <thead>\n",
       "    <tr style=\"text-align: right;\">\n",
       "      <th></th>\n",
       "      <th>click</th>\n",
       "      <th>screen_resolution</th>\n",
       "      <th>video</th>\n",
       "      <th>score</th>\n",
       "      <th>reviews</th>\n",
       "      <th>editors_choice</th>\n",
       "      <th>price</th>\n",
       "      <th>iap</th>\n",
       "      <th>installs</th>\n",
       "      <th>state_AK</th>\n",
       "      <th>...</th>\n",
       "      <th>state_SD</th>\n",
       "      <th>state_TN</th>\n",
       "      <th>state_TX</th>\n",
       "      <th>state_UT</th>\n",
       "      <th>state_VA</th>\n",
       "      <th>state_VT</th>\n",
       "      <th>state_WA</th>\n",
       "      <th>state_WI</th>\n",
       "      <th>state_WV</th>\n",
       "      <th>state_WY</th>\n",
       "    </tr>\n",
       "  </thead>\n",
       "  <tbody>\n",
       "    <tr>\n",
       "      <th>0</th>\n",
       "      <td>0</td>\n",
       "      <td>921600</td>\n",
       "      <td>1</td>\n",
       "      <td>4.3</td>\n",
       "      <td>155129</td>\n",
       "      <td>False</td>\n",
       "      <td>0.0</td>\n",
       "      <td>True</td>\n",
       "      <td>10000000</td>\n",
       "      <td>0</td>\n",
       "      <td>...</td>\n",
       "      <td>0</td>\n",
       "      <td>0</td>\n",
       "      <td>1</td>\n",
       "      <td>0</td>\n",
       "      <td>0</td>\n",
       "      <td>0</td>\n",
       "      <td>0</td>\n",
       "      <td>0</td>\n",
       "      <td>0</td>\n",
       "      <td>0</td>\n",
       "    </tr>\n",
       "    <tr>\n",
       "      <th>1</th>\n",
       "      <td>0</td>\n",
       "      <td>921600</td>\n",
       "      <td>1</td>\n",
       "      <td>4.3</td>\n",
       "      <td>155129</td>\n",
       "      <td>False</td>\n",
       "      <td>0.0</td>\n",
       "      <td>True</td>\n",
       "      <td>10000000</td>\n",
       "      <td>0</td>\n",
       "      <td>...</td>\n",
       "      <td>0</td>\n",
       "      <td>0</td>\n",
       "      <td>0</td>\n",
       "      <td>0</td>\n",
       "      <td>0</td>\n",
       "      <td>0</td>\n",
       "      <td>0</td>\n",
       "      <td>0</td>\n",
       "      <td>0</td>\n",
       "      <td>0</td>\n",
       "    </tr>\n",
       "    <tr>\n",
       "      <th>2</th>\n",
       "      <td>0</td>\n",
       "      <td>4096000</td>\n",
       "      <td>1</td>\n",
       "      <td>4.3</td>\n",
       "      <td>155129</td>\n",
       "      <td>False</td>\n",
       "      <td>0.0</td>\n",
       "      <td>True</td>\n",
       "      <td>10000000</td>\n",
       "      <td>0</td>\n",
       "      <td>...</td>\n",
       "      <td>0</td>\n",
       "      <td>0</td>\n",
       "      <td>0</td>\n",
       "      <td>0</td>\n",
       "      <td>0</td>\n",
       "      <td>0</td>\n",
       "      <td>0</td>\n",
       "      <td>0</td>\n",
       "      <td>0</td>\n",
       "      <td>0</td>\n",
       "    </tr>\n",
       "    <tr>\n",
       "      <th>3</th>\n",
       "      <td>0</td>\n",
       "      <td>921600</td>\n",
       "      <td>1</td>\n",
       "      <td>4.3</td>\n",
       "      <td>155129</td>\n",
       "      <td>False</td>\n",
       "      <td>0.0</td>\n",
       "      <td>True</td>\n",
       "      <td>10000000</td>\n",
       "      <td>0</td>\n",
       "      <td>...</td>\n",
       "      <td>0</td>\n",
       "      <td>0</td>\n",
       "      <td>0</td>\n",
       "      <td>0</td>\n",
       "      <td>0</td>\n",
       "      <td>0</td>\n",
       "      <td>0</td>\n",
       "      <td>0</td>\n",
       "      <td>0</td>\n",
       "      <td>0</td>\n",
       "    </tr>\n",
       "    <tr>\n",
       "      <th>4</th>\n",
       "      <td>0</td>\n",
       "      <td>4096000</td>\n",
       "      <td>1</td>\n",
       "      <td>4.3</td>\n",
       "      <td>155129</td>\n",
       "      <td>False</td>\n",
       "      <td>0.0</td>\n",
       "      <td>True</td>\n",
       "      <td>10000000</td>\n",
       "      <td>0</td>\n",
       "      <td>...</td>\n",
       "      <td>0</td>\n",
       "      <td>0</td>\n",
       "      <td>0</td>\n",
       "      <td>0</td>\n",
       "      <td>0</td>\n",
       "      <td>0</td>\n",
       "      <td>0</td>\n",
       "      <td>0</td>\n",
       "      <td>0</td>\n",
       "      <td>0</td>\n",
       "    </tr>\n",
       "  </tbody>\n",
       "</table>\n",
       "<p>5 rows × 60 columns</p>\n",
       "</div>"
      ],
      "text/plain": [
       "   click  screen_resolution  video  score  reviews  editors_choice  price  \\\n",
       "0      0             921600      1    4.3   155129           False    0.0   \n",
       "1      0             921600      1    4.3   155129           False    0.0   \n",
       "2      0            4096000      1    4.3   155129           False    0.0   \n",
       "3      0             921600      1    4.3   155129           False    0.0   \n",
       "4      0            4096000      1    4.3   155129           False    0.0   \n",
       "\n",
       "    iap  installs  state_AK  ...  state_SD  state_TN  state_TX  state_UT  \\\n",
       "0  True  10000000         0  ...         0         0         1         0   \n",
       "1  True  10000000         0  ...         0         0         0         0   \n",
       "2  True  10000000         0  ...         0         0         0         0   \n",
       "3  True  10000000         0  ...         0         0         0         0   \n",
       "4  True  10000000         0  ...         0         0         0         0   \n",
       "\n",
       "   state_VA  state_VT  state_WA  state_WI  state_WV  state_WY  \n",
       "0         0         0         0         0         0         0  \n",
       "1         0         0         0         0         0         0  \n",
       "2         0         0         0         0         0         0  \n",
       "3         0         0         0         0         0         0  \n",
       "4         0         0         0         0         0         0  \n",
       "\n",
       "[5 rows x 60 columns]"
      ]
     },
     "execution_count": 3,
     "metadata": {},
     "output_type": "execute_result"
    }
   ],
   "source": [
    "state_train = pd.get_dummies(train.user_state, prefix='state')\n",
    "train = pd.concat([train, state_train], axis=1)\n",
    "train.drop(['user_state'], axis=1, inplace=True)\n",
    "\n",
    "state_test = pd.get_dummies(test.user_state, prefix='state')\n",
    "test = pd.concat([test, state_test], axis=1)\n",
    "test.drop(['user_state'], axis=1, inplace=True)\n",
    "\n",
    "print(f'Click percent in train data: {train.click.sum()/train.shape[0]*100}')\n",
    "print(f'Click percent in test data: {test.click.sum()/test.shape[0]*100}')\n",
    "\n",
    "train.head()"
   ]
  },
  {
   "cell_type": "code",
   "execution_count": 12,
   "metadata": {},
   "outputs": [
    {
     "data": {
      "image/png": "[encoded data removed]",
      "text/plain": [
       "<Figure size 432x288 with 1 Axes>"
      ]
     },
     "metadata": {
      "needs_background": "light"
     },
     "output_type": "display_data"
    }
   ],
   "source": [
    "#Imbalanced data\n",
    "\n",
    "X_train = train.drop('click', axis=1)\n",
    "y_train = train['click']\n",
    "\n",
    "X_test = test.drop('click', axis=1)\n",
    "y_test = test['click']\n",
    "\n",
    "\n",
    "plt.bar(['No click', 'click'], height=[sum(y_train==0), sum(y_train==1)])\n",
    "plt.title('Original Data')\n",
    "plt.show()"
   ]
  },
  {
   "cell_type": "code",
   "execution_count": 13,
   "metadata": {},
   "outputs": [
    {
     "data": {
      "image/png": "[encoded data removed]",
      "text/plain": [
       "<Figure size 432x288 with 1 Axes>"
      ]
     },
     "metadata": {
      "needs_background": "light"
     },
     "output_type": "display_data"
    },
    {
     "data": {
      "image/png": "[encoded data removed]",
      "text/plain": [
       "<Figure size 432x288 with 1 Axes>"
      ]
     },
     "metadata": {
      "needs_background": "light"
     },
     "output_type": "display_data"
    }
   ],
   "source": [
    "oversampler = RandomOverSampler(sampling_strategy='minority')\n",
    "X_over_train, y_over_train = oversampler.fit_resample(X_train, y_train)\n",
    "X_over_test, y_over_test = oversampler.fit_resample(X_test, y_test)\n",
    "\n",
    "plt.bar(['No click', 'click'], height=[sum(y_over_train==0), sum(y_over_train==1)])\n",
    "plt.title('Random Oversampled train Data')\n",
    "plt.show()\n",
    "\n",
    "plt.bar(['No click', 'click'], height=[sum(y_over_test==0), sum(y_over_test==1)])\n",
    "plt.title('Random Oversampled test Data')\n",
    "plt.show()\n",
    "\n"
   ]
  },
  {
   "cell_type": "code",
   "execution_count": null,
   "metadata": {},
   "outputs": [],
   "source": [
    "X_train = train.drop('click',axis = 1)\n",
    "y_train = train['click']\n",
    "\n",
    "X_test = test.drop('click',axis = 1)\n",
    "y_test = test['click']"
   ]
  },
  {
   "cell_type": "code",
   "execution_count": 17,
   "metadata": {},
   "outputs": [
    {
     "data": {
      "text/plain": [
       "RandomForestClassifier(max_depth=10)"
      ]
     },
     "execution_count": 17,
     "metadata": {},
     "output_type": "execute_result"
    }
   ],
   "source": [
    "rf = RandomForestClassifier(n_estimators=100, max_depth=10)\n",
    "rf.fit(X_over_train, y_over_train)"
   ]
  },
  {
   "cell_type": "code",
   "execution_count": 19,
   "metadata": {},
   "outputs": [
    {
     "name": "stdout",
     "output_type": "stream",
     "text": [
      "[[137546 198505]\n",
      " [ 95313 240738]]\n",
      "              precision    recall  f1-score   support\n",
      "\n",
      "           0       0.59      0.41      0.48    336051\n",
      "           1       0.55      0.72      0.62    336051\n",
      "\n",
      "    accuracy                           0.56    672102\n",
      "   macro avg       0.57      0.56      0.55    672102\n",
      "weighted avg       0.57      0.56      0.55    672102\n",
      "\n"
     ]
    }
   ],
   "source": [
    "y_over_pred= rf.predict(X_over_test)\n",
    "print(confusion_matrix(y_over_test, y_over_pred))\n",
    "print(classification_report(y_over_test, y_over_pred))"
   ]
  },
  {
   "cell_type": "code",
   "execution_count": null,
   "metadata": {},
   "outputs": [],
   "source": []
  }
 ],
 "metadata": {
  "kernelspec": {
   "display_name": "Python 3",
   "language": "python",
   "name": "python3"
  },
  "language_info": {
   "codemirror_mode": {
    "name": "ipython",
    "version": 3
   },
   "file_extension": ".py",
   "mimetype": "text/x-python",
   "name": "python",
   "nbconvert_exporter": "python",
   "pygments_lexer": "ipython3",
   "version": "3.8.3"
  }
 },
 "nbformat": 4,
 "nbformat_minor": 4
}
