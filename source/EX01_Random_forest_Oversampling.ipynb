{
 "cells": [
  {
   "cell_type": "markdown",
   "metadata": {},
   "source": [
    "# Imporst"
   ]
  },
  {
   "cell_type": "code",
   "execution_count": null,
   "metadata": {},
   "outputs": [],
   "source": [
    "#Install once\n",
    "#!pip install imbalanced-learn\n",
    "#!pip install delayed\n",
    "\n",
    "import pandas as pd\n",
    "import numpy as np\n",
    "import seaborn as sns\n",
    "import matplotlib.pyplot as plt\n",
    "\n",
    "\n",
    "from sklearn.preprocessing import LabelEncoder\n",
    "from sklearn.impute import SimpleImputer\n",
    "from sklearn.ensemble import RandomForestClassifier\n",
    "from sklearn.metrics import confusion_matrix, classification_report, accuracy_score\n",
    "\n",
    "from imblearn.under_sampling import RandomUnderSampler\n",
    "from imblearn.over_sampling import RandomOverSampler\n",
    "\n",
    "\n",
    "%matplotlib inline"
   ]
  },
  {
   "cell_type": "code",
   "execution_count": null,
   "metadata": {},
   "outputs": [],
   "source": [
    "train = pd.read_csv('data/train.csv')  \n",
    "test = pd.read_csv('data/test.csv')\n",
    "\n",
    "train.head()"
   ]
  },
  {
   "cell_type": "code",
   "execution_count": null,
   "metadata": {},
   "outputs": [],
   "source": [
    "# Keep 'user_state' beacuse it is influancing the 'hour' column.\n",
    "#state_train = pd.get_dummies(train.user_state, prefix='state')\n",
    "#train = pd.concat([train, state_train], axis=1)\n",
    "#train.drop(['user_state'], axis=1, inplace=True)\n",
    "\n",
    "#state_test = pd.get_dummies(test.user_state, prefix='state')\n",
    "#test = pd.concat([test, state_test], axis=1)\n",
    "#test.drop(['user_state'], axis=1, inplace=True)\n",
    "\n",
    "print(f'Click percent in train data: {train.click.sum()/train.shape[0]*100}')\n",
    "print(f'Click percent in test data: {test.click.sum()/test.shape[0]*100}')\n",
    "\n",
    "train.head()"
   ]
  },
  {
   "cell_type": "markdown",
   "metadata": {},
   "source": [
    "# Check for imbalance"
   ]
  },
  {
   "cell_type": "code",
   "execution_count": null,
   "metadata": {},
   "outputs": [],
   "source": [
    "#Imbalanced data\n",
    "\n",
    "X_train = train.drop('click', axis=1)\n",
    "y_train = train['click']\n",
    "\n",
    "X_test = test.drop('click', axis=1)\n",
    "y_test = test['click']\n",
    "\n",
    "\n",
    "plt.bar(['No click', 'click'], height=[sum(y_train==0), sum(y_train==1)])\n",
    "plt.title('Original Data')\n",
    "plt.show()"
   ]
  },
  {
   "cell_type": "markdown",
   "metadata": {},
   "source": [
    "# Oversampling"
   ]
  },
  {
   "cell_type": "code",
   "execution_count": null,
   "metadata": {},
   "outputs": [],
   "source": [
    "oversampler = RandomOverSampler(sampling_strategy='minority')\n",
    "X_over_train, y_over_train = oversampler.fit_resample(X_train, y_train)\n",
    "X_over_test, y_over_test = oversampler.fit_resample(X_test, y_test)\n",
    "\n",
    "plt.bar(['No click', 'click'], height=[sum(y_over_train==0), sum(y_over_train==1)])\n",
    "plt.title('Random Oversampled train Data')\n",
    "plt.show()\n",
    "\n",
    "plt.bar(['No click', 'click'], height=[sum(y_over_test==0), sum(y_over_test==1)])\n",
    "plt.title('Random Oversampled test Data')\n",
    "plt.show()\n",
    "\n"
   ]
  },
  {
   "cell_type": "markdown",
   "metadata": {},
   "source": [
    "# Running the model"
   ]
  },
  {
   "cell_type": "code",
   "execution_count": null,
   "metadata": {},
   "outputs": [],
   "source": [
    "X_train = train.drop('click',axis = 1)\n",
    "y_train = train['click']\n",
    "\n",
    "X_test = test.drop('click',axis = 1)\n",
    "y_test = test['click']"
   ]
  },
  {
   "cell_type": "code",
   "execution_count": null,
   "metadata": {},
   "outputs": [],
   "source": [
    "rf = RandomForestClassifier(n_estimators=100, max_depth=10)\n",
    "rf.fit(X_over_train, y_over_train)"
   ]
  },
  {
   "cell_type": "code",
   "execution_count": null,
   "metadata": {},
   "outputs": [],
   "source": [
    "y_over_pred= rf.predict(X_over_test)\n",
    "print(confusion_matrix(y_over_test, y_over_pred))\n",
    "print(classification_report(y_over_test, y_over_pred))"
   ]
  },
  {
   "cell_type": "code",
   "execution_count": null,
   "metadata": {},
   "outputs": [],
   "source": []
  }
 ],
 "metadata": {
  "kernelspec": {
   "display_name": "Python 3 (ipykernel)",
   "language": "python",
   "name": "python3"
  },
  "language_info": {
   "codemirror_mode": {
    "name": "ipython",
    "version": 3
   },
   "file_extension": ".py",
   "mimetype": "text/x-python",
   "name": "python",
   "nbconvert_exporter": "python",
   "pygments_lexer": "ipython3",
   "version": "3.9.7"
  }
 },
 "nbformat": 4,
 "nbformat_minor": 4
}
