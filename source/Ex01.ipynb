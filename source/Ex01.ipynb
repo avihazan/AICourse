{
 "cells": [
  {
   "cell_type": "code",
   "execution_count": null,
   "metadata": {},
   "outputs": [],
   "source": [
    "#TODO\n",
    "#todo:\n",
    "#1. build date function and convert utc to mm dd - done!!!\n",
    "#1.1 - instead of using date select miliseconds as test data from 11.2018 / check if at least 20% of data\n",
    "#2. remove duplicate items per single person / remove by bidid  - done my michael - done!!!\n",
    "#3. remove trash columns from android_bids - \n",
    "#3.1 remove marketplace col\n",
    "#3.2 device_maker and device_model NaN's changed to unknown and claasified as new device_maker or device_model\n",
    "\n",
    "#4. remove trash columns from play_apps\n",
    "#4.1 Do we need to use play_apps -> Which cols do we want to use??\n",
    "# [video, category, score, histogram, reviews, editors_choice, (price, free), iap, size, installs, content_rating, iap_range, interactive_elements?, bids]\n",
    "\n",
    "#5. trun into comma seperated label for play_apps -> category\n",
    "\n",
    "#6. Merge data from two tables android_bids_us and play_apps\n",
    "#6.1 USE pandas merge datafreames function to merge both files"
   ]
  },
  {
   "cell_type": "code",
   "execution_count": null,
   "metadata": {},
   "outputs": [],
   "source": [
    "#imports\n",
    "import pandas as pd\n",
    "from datetime import datetime\n",
    "from zipfile import ZipFile\n",
    "import pickle\n",
    "\n",
    "from sklearn.model_selection import train_test_split\n",
    "\n"
   ]
  },
  {
   "cell_type": "code",
   "execution_count": null,
   "metadata": {},
   "outputs": [],
   "source": [
    "#Read orig android data\n",
    "origdata = pd.read_csv('data/android_bids_us.csv')\n",
    "origdata.head()\n"
   ]
  },
  {
   "cell_type": "code",
   "execution_count": null,
   "metadata": {},
   "outputs": [],
   "source": [
    "#Read orig play_apps data\n",
    "app_details_orig = ZipFile(\"data/play_apps.zip\")\n",
    "app_file = 'play_apps/a008.com.fc2.blog.androidkaihatu.datecamera2'\n",
    "app = pickle.loads(app_details_orig.read(app_file))\n",
    "app"
   ]
  },
  {
   "cell_type": "code",
   "execution_count": null,
   "metadata": {},
   "outputs": [],
   "source": [
    "dataTypes = origdata.dtypes\n",
    "print(f'Total columns: {dataTypes.size} ||| Total rows: {origdata.count()}')\n",
    "print(f'Data type of each column of Dataframe : ')\n",
    "print(dataTypes)\n",
    "# We may have NAN's in user_isp, device_maker, device_model\n",
    "\n",
    "print('-----------------------------------')\n",
    "print(origdata.marketplace.unique())\n",
    "# all items in marketplace col equal 'chartboost'. we can remove col\n",
    "print('-----------------------------------')\n",
    "\n",
    "print('-----------------------------------')\n",
    "print('app_id::')\n",
    "print(origdata.app_id.value_counts())\n",
    "print('-----------------------------------')\n",
    "\n",
    "print('-----------------------------------')\n",
    "print('user_ip::')\n",
    "print(origdata.user_isp.value_counts())\n",
    "print('-----------------------------------')\n",
    "\n",
    "print('-----------------------------------')\n",
    "print('device_maker::')\n",
    "print(origdata.device_maker.value_counts())\n",
    "print('-----------------------------------')\n",
    "\n",
    "print('-----------------------------------')\n",
    "print('device_model::')\n",
    "print(origdata.device_model.value_counts())\n",
    "print('-----------------------------------')\n",
    "\n"
   ]
  },
  {
   "cell_type": "code",
   "execution_count": null,
   "metadata": {},
   "outputs": [],
   "source": [
    "#Rearrange dataframe\n",
    "dataframe = origdata\n",
    "\n",
    "#-----------------------------\n",
    "\n",
    "#Add date from utc and remove utc\n",
    "dataframe['date'] = dataframe['utc_time'].apply(lambda x: datetime.fromtimestamp(x/1000))\n",
    "dataframe = dataframe.drop(['utc_time'], axis=1)\n",
    "\n",
    "#-----------------------------\n",
    "\n",
    "#Remove marketplace col\n",
    "dataframe = dataframe.drop(['marketplace'], axis=1)\n",
    "\n",
    "#-----------------------------\n",
    "\n",
    "#Remove duplicated bidid. Keep only single instance keep the one with click == 1\n",
    "dataframe = dataframe[~((dataframe['bidid'].duplicated(keep=False))&(dataframe['click']==0))]\n",
    "\n",
    "#-----------------------------\n",
    "\n",
    "#Change device_maker NaN's to unknown manufacturerer\n",
    "dataframe['device_maker'] = dataframe['device_maker'].apply(lambda x: 'unknown' if x!=x else x)\n",
    "\n",
    "#-----------------------------\n",
    "\n",
    "#Change device_model NaN's to unknown valid model\n",
    "dataframe['device_model'] = dataframe['device_model'].apply(lambda x: 'unknown' if x!=x else x)\n",
    "\n",
    "#-----------------------------\n",
    "\n",
    "dataframe"
   ]
  },
  {
   "cell_type": "code",
   "execution_count": null,
   "metadata": {},
   "outputs": [],
   "source": []
  },
  {
   "cell_type": "code",
   "execution_count": null,
   "metadata": {},
   "outputs": [],
   "source": [
    "#merge data from apps to dataframe\n",
    "\n",
    "#1. get partial set from dataframe to save time\n",
    "dataframe_partial = dataframe.head(100)\n",
    "\n",
    "#2. build function to get data from play_apps\n",
    "def getdata(app_id):\n",
    "    app_file = 'play_apps/' + app_id\n",
    "    #print('xxx:',app_file)\n",
    "    try:\n",
    "        aaa = app_details_orig.read(app_file)\n",
    "        app = pickle.loads(aaa)\n",
    "        return app['title']\n",
    "    except KeyError:\n",
    "        print('Does not work')\n",
    "        return 'NaN'\n",
    "\n",
    "\n",
    "    ####\n",
    "    # USE pandas merge datafreames function \n",
    "    \n",
    "\n",
    "#dataframe_partial['Title'] = dataframe_partial['app_id'].apply(lambda x: getdata(x))\n",
    "print(dataframe_partial['app_id'].apply(lambda x: getdata(x)))\n"
   ]
  },
  {
   "cell_type": "code",
   "execution_count": null,
   "metadata": {},
   "outputs": [],
   "source": [
    "dataframe_partial\n"
   ]
  },
  {
   "cell_type": "code",
   "execution_count": null,
   "metadata": {},
   "outputs": [],
   "source": []
  },
  {
   "cell_type": "code",
   "execution_count": null,
   "metadata": {},
   "outputs": [],
   "source": []
  }
 ],
 "metadata": {
  "kernelspec": {
   "display_name": "Python 3",
   "language": "python",
   "name": "python3"
  },
  "language_info": {
   "codemirror_mode": {
    "name": "ipython",
    "version": 3
   },
   "file_extension": ".py",
   "mimetype": "text/x-python",
   "name": "python",
   "nbconvert_exporter": "python",
   "pygments_lexer": "ipython3",
   "version": "3.8.3"
  }
 },
 "nbformat": 4,
 "nbformat_minor": 4
}
