{
 "cells": [
  {
   "cell_type": "markdown",
   "metadata": {},
   "source": [
    "### TODO:: \n",
    "\n",
    "1. build date function and convert utc to mm dd - done!!!\n",
    "\n",
    "    1.1 - instead of using date select miliseconds as test data from 11.2018 / check if at least 20% of data\n",
    "\n",
    "\n",
    "2. remove duplicate items per single person / remove by bidid  - done my michael - done!!!\n",
    "\n",
    "\n",
    "3. remove trash columns from android_bids\n",
    "\n",
    "    3.1 remove marketplace col - done !!!\n",
    "    \n",
    "    3.2 device_maker and device_model NaN's changed to unknown and claasified as new device_maker or device_model - done!!!\n",
    "    \n",
    "    \n",
    "\n",
    "4. remove trash columns from play_apps\n",
    "\n",
    "    4.1 Create dataframe from files - done!!!\n",
    "    \n",
    "    4.2 Do we need to use play_apps -> Which cols do we want to use??\n",
    "    \n",
    "        [video, category, score, histogram, reviews, editors_choice, (price, free), iap, size, installs, content_rating, iap_range, interactive_elements?, bids]\n",
    "\n",
    "\n",
    "5. trun into comma seperated label for play_apps -> category\n",
    "\n",
    "\n",
    "6. Merge data from two tables android_bids_us and play_apps\n",
    "\n",
    "    6.1 USE pandas merge datafreames function to merge both files"
   ]
  },
  {
   "cell_type": "code",
   "execution_count": 1,
   "metadata": {},
   "outputs": [],
   "source": [
    "#imports\n",
    "import pandas as pd\n",
    "from datetime import datetime\n",
    "from zipfile import ZipFile\n",
    "import pickle\n",
    "from pathlib import Path\n"
   ]
  },
  {
   "cell_type": "code",
   "execution_count": 2,
   "metadata": {},
   "outputs": [
    {
     "ename": "FileNotFoundError",
     "evalue": "[Errno 2] No such file or directory: 'data/android_bids_us.csv'",
     "output_type": "error",
     "traceback": [
      "\u001b[1;31m---------------------------------------------------------------------------\u001b[0m",
      "\u001b[1;31mFileNotFoundError\u001b[0m                         Traceback (most recent call last)",
      "\u001b[1;32m~\\AppData\\Local\\Temp/ipykernel_512/2451614751.py\u001b[0m in \u001b[0;36m<module>\u001b[1;34m\u001b[0m\n\u001b[0;32m      1\u001b[0m \u001b[1;31m#Read orig android data\u001b[0m\u001b[1;33m\u001b[0m\u001b[1;33m\u001b[0m\u001b[0m\n\u001b[1;32m----> 2\u001b[1;33m \u001b[0morigdata\u001b[0m \u001b[1;33m=\u001b[0m \u001b[0mpd\u001b[0m\u001b[1;33m.\u001b[0m\u001b[0mread_csv\u001b[0m\u001b[1;33m(\u001b[0m\u001b[1;34m'data/android_bids_us.csv'\u001b[0m\u001b[1;33m)\u001b[0m\u001b[1;33m\u001b[0m\u001b[1;33m\u001b[0m\u001b[0m\n\u001b[0m\u001b[0;32m      3\u001b[0m \u001b[0morigdata\u001b[0m\u001b[1;33m.\u001b[0m\u001b[0mhead\u001b[0m\u001b[1;33m(\u001b[0m\u001b[1;33m)\u001b[0m\u001b[1;33m\u001b[0m\u001b[1;33m\u001b[0m\u001b[0m\n",
      "\u001b[1;32mD:\\Anaconda\\lib\\site-packages\\pandas\\util\\_decorators.py\u001b[0m in \u001b[0;36mwrapper\u001b[1;34m(*args, **kwargs)\u001b[0m\n\u001b[0;32m    309\u001b[0m                     \u001b[0mstacklevel\u001b[0m\u001b[1;33m=\u001b[0m\u001b[0mstacklevel\u001b[0m\u001b[1;33m,\u001b[0m\u001b[1;33m\u001b[0m\u001b[1;33m\u001b[0m\u001b[0m\n\u001b[0;32m    310\u001b[0m                 )\n\u001b[1;32m--> 311\u001b[1;33m             \u001b[1;32mreturn\u001b[0m \u001b[0mfunc\u001b[0m\u001b[1;33m(\u001b[0m\u001b[1;33m*\u001b[0m\u001b[0margs\u001b[0m\u001b[1;33m,\u001b[0m \u001b[1;33m**\u001b[0m\u001b[0mkwargs\u001b[0m\u001b[1;33m)\u001b[0m\u001b[1;33m\u001b[0m\u001b[1;33m\u001b[0m\u001b[0m\n\u001b[0m\u001b[0;32m    312\u001b[0m \u001b[1;33m\u001b[0m\u001b[0m\n\u001b[0;32m    313\u001b[0m         \u001b[1;32mreturn\u001b[0m \u001b[0mwrapper\u001b[0m\u001b[1;33m\u001b[0m\u001b[1;33m\u001b[0m\u001b[0m\n",
      "\u001b[1;32mD:\\Anaconda\\lib\\site-packages\\pandas\\io\\parsers\\readers.py\u001b[0m in \u001b[0;36mread_csv\u001b[1;34m(filepath_or_buffer, sep, delimiter, header, names, index_col, usecols, squeeze, prefix, mangle_dupe_cols, dtype, engine, converters, true_values, false_values, skipinitialspace, skiprows, skipfooter, nrows, na_values, keep_default_na, na_filter, verbose, skip_blank_lines, parse_dates, infer_datetime_format, keep_date_col, date_parser, dayfirst, cache_dates, iterator, chunksize, compression, thousands, decimal, lineterminator, quotechar, quoting, doublequote, escapechar, comment, encoding, encoding_errors, dialect, error_bad_lines, warn_bad_lines, on_bad_lines, delim_whitespace, low_memory, memory_map, float_precision, storage_options)\u001b[0m\n\u001b[0;32m    584\u001b[0m     \u001b[0mkwds\u001b[0m\u001b[1;33m.\u001b[0m\u001b[0mupdate\u001b[0m\u001b[1;33m(\u001b[0m\u001b[0mkwds_defaults\u001b[0m\u001b[1;33m)\u001b[0m\u001b[1;33m\u001b[0m\u001b[1;33m\u001b[0m\u001b[0m\n\u001b[0;32m    585\u001b[0m \u001b[1;33m\u001b[0m\u001b[0m\n\u001b[1;32m--> 586\u001b[1;33m     \u001b[1;32mreturn\u001b[0m \u001b[0m_read\u001b[0m\u001b[1;33m(\u001b[0m\u001b[0mfilepath_or_buffer\u001b[0m\u001b[1;33m,\u001b[0m \u001b[0mkwds\u001b[0m\u001b[1;33m)\u001b[0m\u001b[1;33m\u001b[0m\u001b[1;33m\u001b[0m\u001b[0m\n\u001b[0m\u001b[0;32m    587\u001b[0m \u001b[1;33m\u001b[0m\u001b[0m\n\u001b[0;32m    588\u001b[0m \u001b[1;33m\u001b[0m\u001b[0m\n",
      "\u001b[1;32mD:\\Anaconda\\lib\\site-packages\\pandas\\io\\parsers\\readers.py\u001b[0m in \u001b[0;36m_read\u001b[1;34m(filepath_or_buffer, kwds)\u001b[0m\n\u001b[0;32m    480\u001b[0m \u001b[1;33m\u001b[0m\u001b[0m\n\u001b[0;32m    481\u001b[0m     \u001b[1;31m# Create the parser.\u001b[0m\u001b[1;33m\u001b[0m\u001b[1;33m\u001b[0m\u001b[0m\n\u001b[1;32m--> 482\u001b[1;33m     \u001b[0mparser\u001b[0m \u001b[1;33m=\u001b[0m \u001b[0mTextFileReader\u001b[0m\u001b[1;33m(\u001b[0m\u001b[0mfilepath_or_buffer\u001b[0m\u001b[1;33m,\u001b[0m \u001b[1;33m**\u001b[0m\u001b[0mkwds\u001b[0m\u001b[1;33m)\u001b[0m\u001b[1;33m\u001b[0m\u001b[1;33m\u001b[0m\u001b[0m\n\u001b[0m\u001b[0;32m    483\u001b[0m \u001b[1;33m\u001b[0m\u001b[0m\n\u001b[0;32m    484\u001b[0m     \u001b[1;32mif\u001b[0m \u001b[0mchunksize\u001b[0m \u001b[1;32mor\u001b[0m \u001b[0miterator\u001b[0m\u001b[1;33m:\u001b[0m\u001b[1;33m\u001b[0m\u001b[1;33m\u001b[0m\u001b[0m\n",
      "\u001b[1;32mD:\\Anaconda\\lib\\site-packages\\pandas\\io\\parsers\\readers.py\u001b[0m in \u001b[0;36m__init__\u001b[1;34m(self, f, engine, **kwds)\u001b[0m\n\u001b[0;32m    809\u001b[0m             \u001b[0mself\u001b[0m\u001b[1;33m.\u001b[0m\u001b[0moptions\u001b[0m\u001b[1;33m[\u001b[0m\u001b[1;34m\"has_index_names\"\u001b[0m\u001b[1;33m]\u001b[0m \u001b[1;33m=\u001b[0m \u001b[0mkwds\u001b[0m\u001b[1;33m[\u001b[0m\u001b[1;34m\"has_index_names\"\u001b[0m\u001b[1;33m]\u001b[0m\u001b[1;33m\u001b[0m\u001b[1;33m\u001b[0m\u001b[0m\n\u001b[0;32m    810\u001b[0m \u001b[1;33m\u001b[0m\u001b[0m\n\u001b[1;32m--> 811\u001b[1;33m         \u001b[0mself\u001b[0m\u001b[1;33m.\u001b[0m\u001b[0m_engine\u001b[0m \u001b[1;33m=\u001b[0m \u001b[0mself\u001b[0m\u001b[1;33m.\u001b[0m\u001b[0m_make_engine\u001b[0m\u001b[1;33m(\u001b[0m\u001b[0mself\u001b[0m\u001b[1;33m.\u001b[0m\u001b[0mengine\u001b[0m\u001b[1;33m)\u001b[0m\u001b[1;33m\u001b[0m\u001b[1;33m\u001b[0m\u001b[0m\n\u001b[0m\u001b[0;32m    812\u001b[0m \u001b[1;33m\u001b[0m\u001b[0m\n\u001b[0;32m    813\u001b[0m     \u001b[1;32mdef\u001b[0m \u001b[0mclose\u001b[0m\u001b[1;33m(\u001b[0m\u001b[0mself\u001b[0m\u001b[1;33m)\u001b[0m\u001b[1;33m:\u001b[0m\u001b[1;33m\u001b[0m\u001b[1;33m\u001b[0m\u001b[0m\n",
      "\u001b[1;32mD:\\Anaconda\\lib\\site-packages\\pandas\\io\\parsers\\readers.py\u001b[0m in \u001b[0;36m_make_engine\u001b[1;34m(self, engine)\u001b[0m\n\u001b[0;32m   1038\u001b[0m             )\n\u001b[0;32m   1039\u001b[0m         \u001b[1;31m# error: Too many arguments for \"ParserBase\"\u001b[0m\u001b[1;33m\u001b[0m\u001b[1;33m\u001b[0m\u001b[0m\n\u001b[1;32m-> 1040\u001b[1;33m         \u001b[1;32mreturn\u001b[0m \u001b[0mmapping\u001b[0m\u001b[1;33m[\u001b[0m\u001b[0mengine\u001b[0m\u001b[1;33m]\u001b[0m\u001b[1;33m(\u001b[0m\u001b[0mself\u001b[0m\u001b[1;33m.\u001b[0m\u001b[0mf\u001b[0m\u001b[1;33m,\u001b[0m \u001b[1;33m**\u001b[0m\u001b[0mself\u001b[0m\u001b[1;33m.\u001b[0m\u001b[0moptions\u001b[0m\u001b[1;33m)\u001b[0m  \u001b[1;31m# type: ignore[call-arg]\u001b[0m\u001b[1;33m\u001b[0m\u001b[1;33m\u001b[0m\u001b[0m\n\u001b[0m\u001b[0;32m   1041\u001b[0m \u001b[1;33m\u001b[0m\u001b[0m\n\u001b[0;32m   1042\u001b[0m     \u001b[1;32mdef\u001b[0m \u001b[0m_failover_to_python\u001b[0m\u001b[1;33m(\u001b[0m\u001b[0mself\u001b[0m\u001b[1;33m)\u001b[0m\u001b[1;33m:\u001b[0m\u001b[1;33m\u001b[0m\u001b[1;33m\u001b[0m\u001b[0m\n",
      "\u001b[1;32mD:\\Anaconda\\lib\\site-packages\\pandas\\io\\parsers\\c_parser_wrapper.py\u001b[0m in \u001b[0;36m__init__\u001b[1;34m(self, src, **kwds)\u001b[0m\n\u001b[0;32m     49\u001b[0m \u001b[1;33m\u001b[0m\u001b[0m\n\u001b[0;32m     50\u001b[0m         \u001b[1;31m# open handles\u001b[0m\u001b[1;33m\u001b[0m\u001b[1;33m\u001b[0m\u001b[0m\n\u001b[1;32m---> 51\u001b[1;33m         \u001b[0mself\u001b[0m\u001b[1;33m.\u001b[0m\u001b[0m_open_handles\u001b[0m\u001b[1;33m(\u001b[0m\u001b[0msrc\u001b[0m\u001b[1;33m,\u001b[0m \u001b[0mkwds\u001b[0m\u001b[1;33m)\u001b[0m\u001b[1;33m\u001b[0m\u001b[1;33m\u001b[0m\u001b[0m\n\u001b[0m\u001b[0;32m     52\u001b[0m         \u001b[1;32massert\u001b[0m \u001b[0mself\u001b[0m\u001b[1;33m.\u001b[0m\u001b[0mhandles\u001b[0m \u001b[1;32mis\u001b[0m \u001b[1;32mnot\u001b[0m \u001b[1;32mNone\u001b[0m\u001b[1;33m\u001b[0m\u001b[1;33m\u001b[0m\u001b[0m\n\u001b[0;32m     53\u001b[0m \u001b[1;33m\u001b[0m\u001b[0m\n",
      "\u001b[1;32mD:\\Anaconda\\lib\\site-packages\\pandas\\io\\parsers\\base_parser.py\u001b[0m in \u001b[0;36m_open_handles\u001b[1;34m(self, src, kwds)\u001b[0m\n\u001b[0;32m    220\u001b[0m         \u001b[0mLet\u001b[0m \u001b[0mthe\u001b[0m \u001b[0mreaders\u001b[0m \u001b[0mopen\u001b[0m \u001b[0mIOHandles\u001b[0m \u001b[0mafter\u001b[0m \u001b[0mthey\u001b[0m \u001b[0mare\u001b[0m \u001b[0mdone\u001b[0m \u001b[1;32mwith\u001b[0m \u001b[0mtheir\u001b[0m \u001b[0mpotential\u001b[0m \u001b[0mraises\u001b[0m\u001b[1;33m.\u001b[0m\u001b[1;33m\u001b[0m\u001b[1;33m\u001b[0m\u001b[0m\n\u001b[0;32m    221\u001b[0m         \"\"\"\n\u001b[1;32m--> 222\u001b[1;33m         self.handles = get_handle(\n\u001b[0m\u001b[0;32m    223\u001b[0m             \u001b[0msrc\u001b[0m\u001b[1;33m,\u001b[0m\u001b[1;33m\u001b[0m\u001b[1;33m\u001b[0m\u001b[0m\n\u001b[0;32m    224\u001b[0m             \u001b[1;34m\"r\"\u001b[0m\u001b[1;33m,\u001b[0m\u001b[1;33m\u001b[0m\u001b[1;33m\u001b[0m\u001b[0m\n",
      "\u001b[1;32mD:\\Anaconda\\lib\\site-packages\\pandas\\io\\common.py\u001b[0m in \u001b[0;36mget_handle\u001b[1;34m(path_or_buf, mode, encoding, compression, memory_map, is_text, errors, storage_options)\u001b[0m\n\u001b[0;32m    700\u001b[0m         \u001b[1;32mif\u001b[0m \u001b[0mioargs\u001b[0m\u001b[1;33m.\u001b[0m\u001b[0mencoding\u001b[0m \u001b[1;32mand\u001b[0m \u001b[1;34m\"b\"\u001b[0m \u001b[1;32mnot\u001b[0m \u001b[1;32min\u001b[0m \u001b[0mioargs\u001b[0m\u001b[1;33m.\u001b[0m\u001b[0mmode\u001b[0m\u001b[1;33m:\u001b[0m\u001b[1;33m\u001b[0m\u001b[1;33m\u001b[0m\u001b[0m\n\u001b[0;32m    701\u001b[0m             \u001b[1;31m# Encoding\u001b[0m\u001b[1;33m\u001b[0m\u001b[1;33m\u001b[0m\u001b[0m\n\u001b[1;32m--> 702\u001b[1;33m             handle = open(\n\u001b[0m\u001b[0;32m    703\u001b[0m                 \u001b[0mhandle\u001b[0m\u001b[1;33m,\u001b[0m\u001b[1;33m\u001b[0m\u001b[1;33m\u001b[0m\u001b[0m\n\u001b[0;32m    704\u001b[0m                 \u001b[0mioargs\u001b[0m\u001b[1;33m.\u001b[0m\u001b[0mmode\u001b[0m\u001b[1;33m,\u001b[0m\u001b[1;33m\u001b[0m\u001b[1;33m\u001b[0m\u001b[0m\n",
      "\u001b[1;31mFileNotFoundError\u001b[0m: [Errno 2] No such file or directory: 'data/android_bids_us.csv'"
     ]
    }
   ],
   "source": [
    "#Read orig android data\n",
    "origdata = pd.read_csv('data/android_bids_us.csv')\n",
    "origdata.head()\n"
   ]
  },
  {
   "cell_type": "code",
   "execution_count": null,
   "metadata": {},
   "outputs": [],
   "source": [
    "#Read orig play_apps data\n",
    "app_details_orig = ZipFile(\"data/play_apps.zip\")\n",
    "app_file = 'play_apps/a008.com.fc2.blog.androidkaihatu.datecamera2'\n",
    "app = pickle.loads(app_details_orig.read(app_file))\n",
    "app"
   ]
  },
  {
   "cell_type": "markdown",
   "metadata": {},
   "source": [
    "# Analyze android dataset"
   ]
  },
  {
   "cell_type": "code",
   "execution_count": null,
   "metadata": {},
   "outputs": [],
   "source": [
    "dataTypes = origdata.dtypes\n",
    "print(f'Total columns: {dataTypes.size} ||| Total rows: {origdata.count()}')\n",
    "print(f'Data type of each column of Dataframe : ')\n",
    "print(dataTypes)\n",
    "# We may have NAN's in user_isp, device_maker, device_model\n",
    "\n",
    "print('-----------------------------------')\n",
    "print('Amount of NaN under utc_time', origdata['utc_time'].isnull().sum())\n",
    "# all items in marketplace col equal 'chartboost'. we can remove col\n",
    "\n",
    "#Print start time \n",
    "start_time = origdata['utc_time'].min()\n",
    "end_time = origdata['utc_time'].max()\n",
    "print('Start Time: ',  datetime.fromtimestamp(start_time/1000))\n",
    "print('End Time: ',  datetime.fromtimestamp(end_time/1000))\n",
    "\n",
    "print('-----------------------------------')\n",
    "\n",
    "\n",
    "print('-----------------------------------')\n",
    "print(origdata.marketplace.unique())\n",
    "# all items in marketplace col equal 'chartboost'. we can remove col\n",
    "print('-----------------------------------')\n",
    "\n",
    "print('-----------------------------------')\n",
    "print('app_id::')\n",
    "print('Amount of NaN under app_id', origdata['app_id'].isnull().sum())\n",
    "print(origdata.app_id.value_counts())\n",
    "print('-----------------------------------')\n",
    "\n",
    "print('-----------------------------------')\n",
    "print('user_ip::')\n",
    "print(origdata.user_isp.value_counts())\n",
    "print('-----------------------------------')\n",
    "\n",
    "print('-----------------------------------')\n",
    "print('user_state::')\n",
    "print(origdata.user_state.value_counts())\n",
    "print('-----------------------------------')\n",
    "\n",
    "print('-----------------------------------')\n",
    "print('device_maker::')\n",
    "print(origdata.device_maker.value_counts())\n",
    "print('-----------------------------------')\n",
    "\n",
    "print('-----------------------------------')\n",
    "print('device_model::')\n",
    "print(origdata.device_model.value_counts())\n",
    "print('-----------------------------------')\n",
    "\n"
   ]
  },
  {
   "cell_type": "markdown",
   "metadata": {},
   "source": [
    "# Prepare android dataset"
   ]
  },
  {
   "cell_type": "code",
   "execution_count": null,
   "metadata": {},
   "outputs": [],
   "source": [
    "#Rearrange dataframe\n",
    "#clone orig dataframe\n",
    "android_df = origdata.copy()\n",
    "\n",
    "#-----------------------------\n",
    "\n",
    "#Add date from utc and remove utc\n",
    "#android_df['date'] = android_df['utc_time'].apply(lambda x: datetime.fromtimestamp(x/1000))\n",
    "#android_df = android_df.drop(['utc_time'], axis=1)\n",
    "\n",
    "#-----------------------------\n",
    "\n",
    "#Remove marketplace col\n",
    "android_df = android_df.drop(['marketplace'], axis=1)\n",
    "\n",
    "#-----------------------------\n",
    "\n",
    "#Remove duplicated bidid. Keep only single instance keep the one with click == 1\n",
    "android_df = android_df[~((android_df['bidid'].duplicated(keep=False))&(android_df['click']==0))]\n",
    "#and then remove bids column\n",
    "android_df = android_df.drop(['bidid'], axis=1)\n",
    "\n",
    "#-----------------------------\n",
    "\n",
    "#Change device_maker NaN's to unknown manufacturerer\n",
    "android_df['device_maker'] = android_df['device_maker'].apply(lambda x: 'unknown' if x!=x else x)\n",
    "\n",
    "#-----------------------------\n",
    "\n",
    "#Change device_model NaN's to unknown valid model\n",
    "android_df['device_model'] = android_df['device_model'].apply(lambda x: 'unknown' if x!=x else x)\n",
    "\n",
    "#-----------------------------\n",
    "\n",
    "android_df"
   ]
  },
  {
   "cell_type": "markdown",
   "metadata": {},
   "source": [
    "# Extract play_apps data and first clean"
   ]
  },
  {
   "cell_type": "code",
   "execution_count": null,
   "metadata": {},
   "outputs": [],
   "source": [
    "# Get play_apps data\n",
    "\n",
    "def zipToDataFrame(zipped, to_remove):\n",
    "    rows = []\n",
    "    \n",
    "    for f in zipped.filelist:\n",
    "        app_file = f.filename\n",
    "        try:\n",
    "            app = pickle.loads(zipped.read(app_file))\n",
    "        except EOFError as e:\n",
    "            continue\n",
    "        except pickle.UnpicklingError as e:\n",
    "            continue\n",
    "        except Exception as e:\n",
    "            return\n",
    "            \n",
    "        # Remove columns\n",
    "        for col in to_remove:\n",
    "            del app[col]\n",
    "        rows.append(app)\n",
    "    \n",
    "    return pd.DataFrame(rows)\n",
    "\n",
    "\n",
    "app_details = ZipFile(\"data/play_apps.zip\")\n",
    "cols_to_remove = ['title','screenshots', 'icon', \n",
    "                  'histogram', 'description', 'description_html', \n",
    "                  'recent_changes', 'developer', 'developer_id', 'developer_email', 'developer_url',\n",
    "                  'developer_address', 'url', 'current_version', 'updated', 'required_android_version']\n",
    "\n",
    "\n",
    "orig_play_apps = zipToDataFrame(app_details, cols_to_remove)\n",
    "orig_play_apps\n",
    "\n"
   ]
  },
  {
   "cell_type": "markdown",
   "metadata": {},
   "source": [
    "# Analyze play_apps dataset"
   ]
  },
  {
   "cell_type": "code",
   "execution_count": null,
   "metadata": {},
   "outputs": [],
   "source": [
    "# explore play_apps data characteristics\n",
    "\n",
    "apps_dataTypes = orig_play_apps.dtypes\n",
    "\n",
    "print(f'Total columns: {apps_dataTypes.size} ||| Total rows: {orig_play_apps.count()}')\n",
    "print(f'Data type of each column of Dataframe : ')\n",
    "print(apps_dataTypes)\n",
    "# We may have NAN's in iap_range, interactive_elements, price\n",
    "\n",
    "print('-----------------------------------')\n",
    "print('price values: ', orig_play_apps.price.unique())\n",
    "print('free values: ',orig_play_apps.free.unique())\n",
    "# items in price and free should be in a single col\n",
    "print('-----------------------------------')\n",
    "\n",
    "print('-----------------------------------')\n",
    "#print('iap_range: ', orig_play_apps.iap_range.unique())\n",
    "# items in price and free should be in a single col\n",
    "print('-----------------------------------')\n",
    "\n"
   ]
  },
  {
   "cell_type": "markdown",
   "metadata": {},
   "source": [
    "# Prepare play_apps dataset"
   ]
  },
  {
   "cell_type": "code",
   "execution_count": null,
   "metadata": {},
   "outputs": [],
   "source": [
    "#Fix and manipulate play_apps data before merge with android_bids_us\n",
    "#clone orig dataframe\n",
    "play_apps_df = orig_play_apps.copy()\n",
    "\n",
    "# Handle 'video' column\n",
    "play_apps_df['video'] = play_apps_df['video'].apply(lambda x: 0 if pd.isna(x) else 1)\n",
    "#---------------------------------------------------\n",
    "\n",
    "play_apps_df\n",
    "\n"
   ]
  },
  {
   "cell_type": "markdown",
   "metadata": {},
   "source": [
    "# Merge two datasets"
   ]
  },
  {
   "cell_type": "code",
   "execution_count": null,
   "metadata": {},
   "outputs": [],
   "source": [
    "print('---------------------------------------------')\n",
    "#merge two data sets into merged dataframe\n",
    "merged_df = pd.merge(android_df, play_apps_df, on='app_id')\n",
    "merged_df = merged_df.drop(['app_id'], axis=1)\n",
    "\n",
    "print('Rows before merge: ',android_df.shape[0])\n",
    "print('Rows after merge: ', merged_df.shape[0])\n",
    "\n",
    "#Concolusion after merge\n",
    "# from android = 2936921 rows × 10 columns turn into 2656577 rows × 24 columns\n",
    "# we missed ~300k rows. need to check y.....\n",
    "print('---------------------------------------------')\n",
    "\n",
    "\n",
    "merged_df\n",
    "\n",
    "\n"
   ]
  },
  {
   "cell_type": "markdown",
   "metadata": {},
   "source": [
    "# Split data and save to files"
   ]
  },
  {
   "cell_type": "code",
   "execution_count": null,
   "metadata": {},
   "outputs": [],
   "source": [
    "print('---------------------------------------------')\n",
    "print('Amount of NaN under utc_time: ', merged_df['utc_time'].isnull().sum())\n",
    "print('Amount of NaN in all data : ', merged_df.isnull().sum().sum())\n",
    "print('---------------------------------------------')\n",
    "\n",
    "\n",
    "print('---------------------------------------------')\n",
    "#Print start time after merge\n",
    "merged_start_time = merged_df['utc_time'].min()\n",
    "merged_end_time = merged_df['utc_time'].max()\n",
    "print('Start Time: ',  datetime.fromtimestamp(merged_start_time/1000))\n",
    "print('End Time: ',  datetime.fromtimestamp(merged_end_time/1000))\n",
    "print('Split time: ',  datetime.fromtimestamp(1541023200000/1000))\n",
    "print('---------------------------------------------')\n",
    "\n",
    "\n",
    "print('---------------------------------------------')\n",
    "tarin_df, test_df = merged_df[(mask:=merged_df['utc_time'] < 1541023200000)], merged_df[~mask]\n",
    "\n",
    "tarin_df = tarin_df.drop(['utc_time'], axis=1)\n",
    "test_df = test_df.drop(['utc_time'], axis=1)\n",
    "\n",
    "tarin_size = tarin_df.shape[0]\n",
    "test_size = test_df.shape[0]\n",
    "\n",
    "print('Amount of tarin_df data : ', tarin_size)\n",
    "print('Amount of test_df data : ', test_size)\n",
    "\n",
    "print(f'Test data is: {(test_size / (tarin_size + test_size))*100} percent')\n",
    "\n",
    "      \n",
    "print('---------------------------------------------')\n",
    "      \n",
    "#Save to CSV files\n",
    "#Save to splited csv files\n",
    "filepath1 = Path('data/train.csv')  \n",
    "filepath2 = Path('data/test.csv')  \n",
    "tarin_df.to_csv(filepath1, index=False)\n",
    "test_df.to_csv(filepath2, index=False)\n",
    "\n"
   ]
  },
  {
   "cell_type": "code",
   "execution_count": null,
   "metadata": {},
   "outputs": [],
   "source": []
  },
  {
   "cell_type": "code",
   "execution_count": null,
   "metadata": {},
   "outputs": [],
   "source": []
  }
 ],
 "metadata": {
  "kernelspec": {
   "display_name": "Python 3 (ipykernel)",
   "language": "python",
   "name": "python3"
  },
  "language_info": {
   "codemirror_mode": {
    "name": "ipython",
    "version": 3
   },
   "file_extension": ".py",
   "mimetype": "text/x-python",
   "name": "python",
   "nbconvert_exporter": "python",
   "pygments_lexer": "ipython3",
   "version": "3.9.7"
  }
 },
 "nbformat": 4,
 "nbformat_minor": 4
}
